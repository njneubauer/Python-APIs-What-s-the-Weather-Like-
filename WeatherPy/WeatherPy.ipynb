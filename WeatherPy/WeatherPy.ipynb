{
 "cells": [
  {
   "cell_type": "markdown",
   "metadata": {},
   "source": [
    "# WeatherPy\n",
    "----\n",
    "\n",
    "#### Note\n",
    "* Instructions have been included for each segment. You do not have to follow them exactly, but they are included to help you think through the steps."
   ]
  },
  {
   "cell_type": "code",
   "execution_count": 7,
   "metadata": {
    "scrolled": false
   },
   "outputs": [],
   "source": [
    "# Dependencies and Setup\n",
    "import matplotlib.pyplot as plt\n",
    "import pandas as pd\n",
    "import numpy as np\n",
    "import requests\n",
    "import time\n",
    "from scipy.stats import linregress\n",
    "\n",
    "# Import API key\n",
    "from api_keys import weather_api_key\n",
    "\n",
    "# Incorporated citipy to determine city based on latitude and longitude\n",
    "from citipy import citipy\n",
    "\n",
    "# Output File (CSV)\n",
    "output_data_file = \"cities.csv\"\n",
    "cities_df = pd.read_csv(output_data_file)\n",
    "# Range of latitudes and longitudes\n",
    "lat_range = (-90, 90)\n",
    "lng_range = (-180, 180)"
   ]
  },
  {
   "cell_type": "code",
   "execution_count": 8,
   "metadata": {},
   "outputs": [
    {
     "data": {
      "text/html": [
       "<div>\n",
       "<style scoped>\n",
       "    .dataframe tbody tr th:only-of-type {\n",
       "        vertical-align: middle;\n",
       "    }\n",
       "\n",
       "    .dataframe tbody tr th {\n",
       "        vertical-align: top;\n",
       "    }\n",
       "\n",
       "    .dataframe thead th {\n",
       "        text-align: right;\n",
       "    }\n",
       "</style>\n",
       "<table border=\"1\" class=\"dataframe\">\n",
       "  <thead>\n",
       "    <tr style=\"text-align: right;\">\n",
       "      <th></th>\n",
       "      <th>City_ID</th>\n",
       "      <th>City</th>\n",
       "      <th>Cloudiness</th>\n",
       "      <th>Country</th>\n",
       "      <th>Date</th>\n",
       "      <th>Humidity</th>\n",
       "      <th>Lat</th>\n",
       "      <th>Lng</th>\n",
       "      <th>Max Temp</th>\n",
       "      <th>Wind Speed</th>\n",
       "    </tr>\n",
       "  </thead>\n",
       "  <tbody>\n",
       "    <tr>\n",
       "      <th>0</th>\n",
       "      <td>0</td>\n",
       "      <td>ostrovnoy</td>\n",
       "      <td>2</td>\n",
       "      <td>RU</td>\n",
       "      <td>1558378754</td>\n",
       "      <td>72</td>\n",
       "      <td>68.05</td>\n",
       "      <td>39.51</td>\n",
       "      <td>37.50</td>\n",
       "      <td>7.16</td>\n",
       "    </tr>\n",
       "    <tr>\n",
       "      <th>1</th>\n",
       "      <td>1</td>\n",
       "      <td>mahebourg</td>\n",
       "      <td>75</td>\n",
       "      <td>MU</td>\n",
       "      <td>1558378503</td>\n",
       "      <td>74</td>\n",
       "      <td>-20.41</td>\n",
       "      <td>57.70</td>\n",
       "      <td>78.80</td>\n",
       "      <td>11.41</td>\n",
       "    </tr>\n",
       "    <tr>\n",
       "      <th>2</th>\n",
       "      <td>2</td>\n",
       "      <td>qaanaaq</td>\n",
       "      <td>25</td>\n",
       "      <td>GL</td>\n",
       "      <td>1558378755</td>\n",
       "      <td>73</td>\n",
       "      <td>77.48</td>\n",
       "      <td>-69.36</td>\n",
       "      <td>22.20</td>\n",
       "      <td>2.37</td>\n",
       "    </tr>\n",
       "    <tr>\n",
       "      <th>3</th>\n",
       "      <td>3</td>\n",
       "      <td>zhuhai</td>\n",
       "      <td>0</td>\n",
       "      <td>CN</td>\n",
       "      <td>1558378755</td>\n",
       "      <td>39</td>\n",
       "      <td>40.71</td>\n",
       "      <td>112.04</td>\n",
       "      <td>44.60</td>\n",
       "      <td>4.47</td>\n",
       "    </tr>\n",
       "    <tr>\n",
       "      <th>4</th>\n",
       "      <td>4</td>\n",
       "      <td>cape town</td>\n",
       "      <td>20</td>\n",
       "      <td>ZA</td>\n",
       "      <td>1558378755</td>\n",
       "      <td>76</td>\n",
       "      <td>-33.93</td>\n",
       "      <td>18.42</td>\n",
       "      <td>55.99</td>\n",
       "      <td>8.05</td>\n",
       "    </tr>\n",
       "    <tr>\n",
       "      <th>...</th>\n",
       "      <td>...</td>\n",
       "      <td>...</td>\n",
       "      <td>...</td>\n",
       "      <td>...</td>\n",
       "      <td>...</td>\n",
       "      <td>...</td>\n",
       "      <td>...</td>\n",
       "      <td>...</td>\n",
       "      <td>...</td>\n",
       "      <td>...</td>\n",
       "    </tr>\n",
       "    <tr>\n",
       "      <th>543</th>\n",
       "      <td>543</td>\n",
       "      <td>yabrud</td>\n",
       "      <td>0</td>\n",
       "      <td>SY</td>\n",
       "      <td>1558378840</td>\n",
       "      <td>32</td>\n",
       "      <td>33.97</td>\n",
       "      <td>36.66</td>\n",
       "      <td>80.60</td>\n",
       "      <td>8.05</td>\n",
       "    </tr>\n",
       "    <tr>\n",
       "      <th>544</th>\n",
       "      <td>544</td>\n",
       "      <td>paraiso</td>\n",
       "      <td>5</td>\n",
       "      <td>MX</td>\n",
       "      <td>1558378898</td>\n",
       "      <td>4</td>\n",
       "      <td>24.01</td>\n",
       "      <td>-104.61</td>\n",
       "      <td>84.20</td>\n",
       "      <td>16.11</td>\n",
       "    </tr>\n",
       "    <tr>\n",
       "      <th>545</th>\n",
       "      <td>545</td>\n",
       "      <td>veraval</td>\n",
       "      <td>0</td>\n",
       "      <td>FR</td>\n",
       "      <td>1558378898</td>\n",
       "      <td>62</td>\n",
       "      <td>49.65</td>\n",
       "      <td>0.71</td>\n",
       "      <td>61.00</td>\n",
       "      <td>8.05</td>\n",
       "    </tr>\n",
       "    <tr>\n",
       "      <th>546</th>\n",
       "      <td>546</td>\n",
       "      <td>novyy urgal</td>\n",
       "      <td>100</td>\n",
       "      <td>RU</td>\n",
       "      <td>1558378899</td>\n",
       "      <td>93</td>\n",
       "      <td>51.07</td>\n",
       "      <td>132.56</td>\n",
       "      <td>49.74</td>\n",
       "      <td>2.68</td>\n",
       "    </tr>\n",
       "    <tr>\n",
       "      <th>547</th>\n",
       "      <td>547</td>\n",
       "      <td>tongren</td>\n",
       "      <td>4</td>\n",
       "      <td>CN</td>\n",
       "      <td>1558378899</td>\n",
       "      <td>64</td>\n",
       "      <td>27.72</td>\n",
       "      <td>109.18</td>\n",
       "      <td>55.86</td>\n",
       "      <td>2.84</td>\n",
       "    </tr>\n",
       "  </tbody>\n",
       "</table>\n",
       "<p>548 rows × 10 columns</p>\n",
       "</div>"
      ],
      "text/plain": [
       "     City_ID         City  Cloudiness Country        Date  Humidity    Lat  \\\n",
       "0          0    ostrovnoy           2      RU  1558378754        72  68.05   \n",
       "1          1    mahebourg          75      MU  1558378503        74 -20.41   \n",
       "2          2      qaanaaq          25      GL  1558378755        73  77.48   \n",
       "3          3       zhuhai           0      CN  1558378755        39  40.71   \n",
       "4          4    cape town          20      ZA  1558378755        76 -33.93   \n",
       "..       ...          ...         ...     ...         ...       ...    ...   \n",
       "543      543       yabrud           0      SY  1558378840        32  33.97   \n",
       "544      544      paraiso           5      MX  1558378898         4  24.01   \n",
       "545      545      veraval           0      FR  1558378898        62  49.65   \n",
       "546      546  novyy urgal         100      RU  1558378899        93  51.07   \n",
       "547      547      tongren           4      CN  1558378899        64  27.72   \n",
       "\n",
       "        Lng  Max Temp  Wind Speed  \n",
       "0     39.51     37.50        7.16  \n",
       "1     57.70     78.80       11.41  \n",
       "2    -69.36     22.20        2.37  \n",
       "3    112.04     44.60        4.47  \n",
       "4     18.42     55.99        8.05  \n",
       "..      ...       ...         ...  \n",
       "543   36.66     80.60        8.05  \n",
       "544 -104.61     84.20       16.11  \n",
       "545    0.71     61.00        8.05  \n",
       "546  132.56     49.74        2.68  \n",
       "547  109.18     55.86        2.84  \n",
       "\n",
       "[548 rows x 10 columns]"
      ]
     },
     "execution_count": 8,
     "metadata": {},
     "output_type": "execute_result"
    }
   ],
   "source": [
    "cities_df"
   ]
  },
  {
   "cell_type": "markdown",
   "metadata": {},
   "source": [
    "## Generate Cities List"
   ]
  },
  {
   "cell_type": "code",
   "execution_count": 9,
   "metadata": {},
   "outputs": [
    {
     "data": {
      "text/plain": [
       "638"
      ]
     },
     "execution_count": 9,
     "metadata": {},
     "output_type": "execute_result"
    }
   ],
   "source": [
    "# List for holding lat_lngs and cities\n",
    "lat_lngs = []\n",
    "cities = []\n",
    "\n",
    "# Create a set of random lat and lng combinations\n",
    "lats = np.random.uniform(lat_range[0], lat_range[1], size=1500)\n",
    "lngs = np.random.uniform(lng_range[0], lng_range[1], size=1500)\n",
    "lat_lngs = zip(lats, lngs)\n",
    "\n",
    "# Identify nearest city for each lat, lng combination\n",
    "for lat_lng in lat_lngs:\n",
    "    city = citipy.nearest_city(lat_lng[0], lat_lng[1]).city_name\n",
    "    \n",
    "    # If the city is unique, then add it to a our cities list\n",
    "    if city not in cities:\n",
    "        cities.append(city)\n",
    "\n",
    "# Print the city count to confirm sufficient count\n",
    "len(cities)"
   ]
  },
  {
   "cell_type": "markdown",
   "metadata": {},
   "source": [
    "### Perform API Calls\n",
    "* Perform a weather check on each city using a series of successive API calls.\n",
    "* Include a print log of each city as it'sbeing processed (with the city number and city name).\n"
   ]
  },
  {
   "cell_type": "code",
   "execution_count": 13,
   "metadata": {},
   "outputs": [
    {
     "data": {
      "text/plain": [
       "{'coord': {'lon': 27.9116, 'lat': -33.0153},\n",
       " 'weather': [{'id': 803,\n",
       "   'main': 'Clouds',\n",
       "   'description': 'broken clouds',\n",
       "   'icon': '04d'}],\n",
       " 'base': 'stations',\n",
       " 'main': {'temp': 77,\n",
       "  'feels_like': 80.83,\n",
       "  'temp_min': 77,\n",
       "  'temp_max': 77,\n",
       "  'pressure': 1004,\n",
       "  'humidity': 83},\n",
       " 'visibility': 10000,\n",
       " 'wind': {'speed': 8.05, 'deg': 210},\n",
       " 'clouds': {'all': 75},\n",
       " 'dt': 1612111859,\n",
       " 'sys': {'type': 1,\n",
       "  'id': 1912,\n",
       "  'country': 'ZA',\n",
       "  'sunrise': 1612063839,\n",
       "  'sunset': 1612113169},\n",
       " 'timezone': 7200,\n",
       " 'id': 1006984,\n",
       " 'name': 'East London',\n",
       " 'cod': 200}"
      ]
     },
     "execution_count": 13,
     "metadata": {},
     "output_type": "execute_result"
    }
   ],
   "source": [
    "response"
   ]
  },
  {
   "cell_type": "code",
   "execution_count": 78,
   "metadata": {
    "scrolled": true
   },
   "outputs": [
    {
     "name": "stdout",
     "output_type": "stream",
     "text": [
      "Retrieving Results for Index 0: barentsburg.\n",
      "Missing Field...skipping\n",
      "-----------------------------------------------\n",
      "Retrieving Results for Index 0: puerto ayora.\n",
      "-----------------------------------------------\n",
      "Retrieving Results for Index 1: aksha.\n",
      "-----------------------------------------------\n",
      "Retrieving Results for Index 2: kurilsk.\n",
      "-----------------------------------------------\n",
      "Retrieving Results for Index 3: provideniya.\n",
      "-----------------------------------------------\n",
      "Retrieving Results for Index 4: busselton.\n",
      "-----------------------------------------------\n",
      "Retrieving Results for Index 5: new norfolk.\n",
      "-----------------------------------------------\n",
      "Retrieving Results for Index 6: saint george.\n",
      "-----------------------------------------------\n",
      "Retrieving Results for Index 7: severo-kurilsk.\n",
      "-----------------------------------------------\n",
      "Retrieving Results for Index 8: east london.\n",
      "-----------------------------------------------\n",
      "Retrieving Results for Index 9: husavik.\n",
      "-----------------------------------------------\n",
      "Retrieving Results for Index 10: ushuaia.\n",
      "-----------------------------------------------\n",
      "Retrieving Results for Index 11: sentyabrskiy.\n",
      "Missing Field...skipping\n",
      "-----------------------------------------------\n",
      "Retrieving Results for Index 11: bluefields.\n",
      "-----------------------------------------------\n",
      "Retrieving Results for Index 12: umzimvubu.\n",
      "Missing Field...skipping\n",
      "-----------------------------------------------\n",
      "Retrieving Results for Index 12: grindavik.\n",
      "-----------------------------------------------\n",
      "Retrieving Results for Index 13: palmeirais.\n",
      "-----------------------------------------------\n",
      "Retrieving Results for Index 14: rikitea.\n",
      "-----------------------------------------------\n",
      "Retrieving Results for Index 15: coquimbo.\n",
      "-----------------------------------------------\n",
      "Retrieving Results for Index 16: atuona.\n",
      "-----------------------------------------------\n",
      "Retrieving Results for Index 17: lexington.\n",
      "-----------------------------------------------\n",
      "Retrieving Results for Index 18: alofi.\n",
      "-----------------------------------------------\n",
      "Retrieving Results for Index 19: zeya.\n",
      "-----------------------------------------------\n",
      "Retrieving Results for Index 20: meulaboh.\n",
      "-----------------------------------------------\n",
      "Retrieving Results for Index 21: olafsvik.\n",
      "-----------------------------------------------\n",
      "Retrieving Results for Index 22: long xuyen.\n",
      "-----------------------------------------------\n",
      "Retrieving Results for Index 23: thompson.\n",
      "-----------------------------------------------\n",
      "Retrieving Results for Index 24: jamestown.\n",
      "-----------------------------------------------\n",
      "Retrieving Results for Index 25: ullapool.\n",
      "-----------------------------------------------\n",
      "Retrieving Results for Index 26: sassandra.\n",
      "-----------------------------------------------\n",
      "Retrieving Results for Index 27: bredasdorp.\n",
      "-----------------------------------------------\n",
      "Retrieving Results for Index 28: tsihombe.\n",
      "Missing Field...skipping\n",
      "-----------------------------------------------\n",
      "Retrieving Results for Index 28: maple creek.\n",
      "-----------------------------------------------\n",
      "Retrieving Results for Index 29: cidreira.\n",
      "-----------------------------------------------\n",
      "Retrieving Results for Index 30: temaraia.\n",
      "Missing Field...skipping\n",
      "-----------------------------------------------\n",
      "Retrieving Results for Index 30: jumla.\n",
      "-----------------------------------------------\n",
      "Retrieving Results for Index 31: san cristobal.\n",
      "-----------------------------------------------\n",
      "Retrieving Results for Index 32: khatanga.\n",
      "-----------------------------------------------\n",
      "Retrieving Results for Index 33: laguna.\n",
      "-----------------------------------------------\n",
      "Retrieving Results for Index 34: butaritari.\n",
      "-----------------------------------------------\n",
      "Retrieving Results for Index 35: iskateley.\n",
      "-----------------------------------------------\n",
      "Retrieving Results for Index 36: esperance.\n",
      "-----------------------------------------------\n",
      "Retrieving Results for Index 37: alta floresta.\n",
      "-----------------------------------------------\n",
      "Retrieving Results for Index 38: mar del plata.\n",
      "-----------------------------------------------\n",
      "Retrieving Results for Index 39: bluff.\n",
      "-----------------------------------------------\n",
      "Retrieving Results for Index 40: punta arenas.\n",
      "-----------------------------------------------\n",
      "Retrieving Results for Index 41: mullaitivu.\n",
      "Missing Field...skipping\n",
      "-----------------------------------------------\n",
      "Retrieving Results for Index 41: sai buri.\n",
      "-----------------------------------------------\n",
      "Retrieving Results for Index 42: port alfred.\n",
      "-----------------------------------------------\n",
      "Retrieving Results for Index 43: lithgow.\n",
      "-----------------------------------------------\n"
     ]
    }
   ],
   "source": [
    "# url for API call\n",
    "url = \"http://api.openweathermap.org/data/2.5/weather?\"\n",
    "units = \"imperial\"\n",
    "query_url = f\"{url}appid={weather_api_key}&units={units}&q=\"\n",
    "# weather lists\n",
    "city_id = -1\n",
    "city_id_list = []\n",
    "cities_list = []\n",
    "cloudiness = []\n",
    "country = []\n",
    "date_time = []\n",
    "humidity = []\n",
    "lat = []\n",
    "lng = []\n",
    "temp_max = []\n",
    "wind_speed = []\n",
    "# counters\n",
    "missing = 0\n",
    "\n",
    "for city in cities[:50]:\n",
    "    city_id += 1\n",
    "    try:\n",
    "        print(f\"Retrieving Results for Index {city_id}: {city}.\")\n",
    "        response = requests.get(query_url+city).json()\n",
    "        cities_list.append(response[\"name\"])\n",
    "        cloudiness.append(response[\"clouds\"][\"all\"])\n",
    "        country.append(response[\"sys\"][\"country\"])\n",
    "        date_time.append(response[\"dt\"])\n",
    "        humidity.append(response[\"main\"][\"humidity\"])\n",
    "        lat.append(response[\"coord\"][\"lat\"])\n",
    "        lng.append(response[\"coord\"][\"lon\"])\n",
    "        temp_max.append(response[\"main\"][\"temp_max\"])\n",
    "        wind_speed.append(response[\"wind\"][\"speed\"])\n",
    "        city_id_list.append(city_id)\n",
    "    except (KeyError, IndexError):\n",
    "        print(\"Missing Field...skipping\")\n",
    "        missing += 1\n",
    "        city_id -= 1\n",
    "    print(\"-----------------------------------------------\")"
   ]
  },
  {
   "cell_type": "markdown",
   "metadata": {},
   "source": [
    "### Convert Raw Data to DataFrame\n",
    "* Export the city data into a .csv.\n",
    "* Display the DataFrame"
   ]
  },
  {
   "cell_type": "code",
   "execution_count": 154,
   "metadata": {},
   "outputs": [
    {
     "data": {
      "text/html": [
       "<div>\n",
       "<style scoped>\n",
       "    .dataframe tbody tr th:only-of-type {\n",
       "        vertical-align: middle;\n",
       "    }\n",
       "\n",
       "    .dataframe tbody tr th {\n",
       "        vertical-align: top;\n",
       "    }\n",
       "\n",
       "    .dataframe thead th {\n",
       "        text-align: right;\n",
       "    }\n",
       "</style>\n",
       "<table border=\"1\" class=\"dataframe\">\n",
       "  <thead>\n",
       "    <tr style=\"text-align: right;\">\n",
       "      <th></th>\n",
       "      <th>City_ID</th>\n",
       "      <th>City</th>\n",
       "      <th>Country</th>\n",
       "      <th>Cloudiness</th>\n",
       "      <th>Date</th>\n",
       "      <th>Humidity(%)</th>\n",
       "      <th>Lat</th>\n",
       "      <th>Lng</th>\n",
       "      <th>Max Temp (F)</th>\n",
       "      <th>Wind Speed</th>\n",
       "    </tr>\n",
       "  </thead>\n",
       "  <tbody>\n",
       "    <tr>\n",
       "      <th>0</th>\n",
       "      <td>0</td>\n",
       "      <td>Puerto Ayora</td>\n",
       "      <td>EC</td>\n",
       "      <td>0</td>\n",
       "      <td>2021-01-31</td>\n",
       "      <td>70</td>\n",
       "      <td>-0.7393</td>\n",
       "      <td>-90.3518</td>\n",
       "      <td>84.20</td>\n",
       "      <td>8.05</td>\n",
       "    </tr>\n",
       "    <tr>\n",
       "      <th>1</th>\n",
       "      <td>1</td>\n",
       "      <td>Aksha</td>\n",
       "      <td>RU</td>\n",
       "      <td>2</td>\n",
       "      <td>2021-01-31</td>\n",
       "      <td>77</td>\n",
       "      <td>50.2814</td>\n",
       "      <td>113.2867</td>\n",
       "      <td>-17.73</td>\n",
       "      <td>10.69</td>\n",
       "    </tr>\n",
       "    <tr>\n",
       "      <th>2</th>\n",
       "      <td>2</td>\n",
       "      <td>Kuril'sk</td>\n",
       "      <td>RU</td>\n",
       "      <td>100</td>\n",
       "      <td>2021-01-31</td>\n",
       "      <td>93</td>\n",
       "      <td>45.2333</td>\n",
       "      <td>147.8833</td>\n",
       "      <td>17.49</td>\n",
       "      <td>22.77</td>\n",
       "    </tr>\n",
       "    <tr>\n",
       "      <th>3</th>\n",
       "      <td>3</td>\n",
       "      <td>Provideniya</td>\n",
       "      <td>RU</td>\n",
       "      <td>100</td>\n",
       "      <td>2021-01-31</td>\n",
       "      <td>87</td>\n",
       "      <td>64.3833</td>\n",
       "      <td>-173.3000</td>\n",
       "      <td>-7.55</td>\n",
       "      <td>23.80</td>\n",
       "    </tr>\n",
       "    <tr>\n",
       "      <th>4</th>\n",
       "      <td>4</td>\n",
       "      <td>Busselton</td>\n",
       "      <td>AU</td>\n",
       "      <td>0</td>\n",
       "      <td>2021-01-31</td>\n",
       "      <td>81</td>\n",
       "      <td>-33.6500</td>\n",
       "      <td>115.3333</td>\n",
       "      <td>63.00</td>\n",
       "      <td>1.01</td>\n",
       "    </tr>\n",
       "  </tbody>\n",
       "</table>\n",
       "</div>"
      ],
      "text/plain": [
       "   City_ID          City Country  Cloudiness        Date  Humidity(%)  \\\n",
       "0        0  Puerto Ayora      EC           0  2021-01-31           70   \n",
       "1        1         Aksha      RU           2  2021-01-31           77   \n",
       "2        2      Kuril'sk      RU         100  2021-01-31           93   \n",
       "3        3   Provideniya      RU         100  2021-01-31           87   \n",
       "4        4     Busselton      AU           0  2021-01-31           81   \n",
       "\n",
       "       Lat       Lng  Max Temp (F)  Wind Speed  \n",
       "0  -0.7393  -90.3518         84.20        8.05  \n",
       "1  50.2814  113.2867        -17.73       10.69  \n",
       "2  45.2333  147.8833         17.49       22.77  \n",
       "3  64.3833 -173.3000         -7.55       23.80  \n",
       "4 -33.6500  115.3333         63.00        1.01  "
      ]
     },
     "execution_count": 154,
     "metadata": {},
     "output_type": "execute_result"
    }
   ],
   "source": [
    "weather_df = pd.DataFrame({\"City_ID\": city_id_list,\n",
    "                           \"City\": cities_list,\n",
    "                           \"Country\": country,\n",
    "                           \"Cloudiness\": cloudiness,\n",
    "                           \"Date\": date_time,\n",
    "                           \"Humidity(%)\": humidity,\n",
    "                           \"Lat\": lat,\n",
    "                           \"Lng\": lng,\n",
    "                           \"Max Temp (F)\": temp_max,\n",
    "                           \"Wind Speed\": wind_speed\n",
    "                          })\n",
    "weather_df[\"Date\"]= pd.to_datetime(weather_df[\"Date\"], unit=\"s\").dt.date\n",
    "weather_df.head()"
   ]
  },
  {
   "cell_type": "markdown",
   "metadata": {},
   "source": [
    "## Inspect the data and remove the cities where the humidity > 100%.\n",
    "----\n",
    "Skip this step if there are no cities that have humidity > 100%. "
   ]
  },
  {
   "cell_type": "code",
   "execution_count": 164,
   "metadata": {},
   "outputs": [
    {
     "data": {
      "text/html": [
       "<div>\n",
       "<style scoped>\n",
       "    .dataframe tbody tr th:only-of-type {\n",
       "        vertical-align: middle;\n",
       "    }\n",
       "\n",
       "    .dataframe tbody tr th {\n",
       "        vertical-align: top;\n",
       "    }\n",
       "\n",
       "    .dataframe thead th {\n",
       "        text-align: right;\n",
       "    }\n",
       "</style>\n",
       "<table border=\"1\" class=\"dataframe\">\n",
       "  <thead>\n",
       "    <tr style=\"text-align: right;\">\n",
       "      <th></th>\n",
       "      <th>City_ID</th>\n",
       "      <th>City</th>\n",
       "      <th>Country</th>\n",
       "      <th>Cloudiness</th>\n",
       "      <th>Date</th>\n",
       "      <th>Humidity(%)</th>\n",
       "      <th>Lat</th>\n",
       "      <th>Lng</th>\n",
       "      <th>Max Temp (F)</th>\n",
       "      <th>Wind Speed</th>\n",
       "    </tr>\n",
       "  </thead>\n",
       "  <tbody>\n",
       "    <tr>\n",
       "      <th>0</th>\n",
       "      <td>0</td>\n",
       "      <td>Puerto Ayora</td>\n",
       "      <td>EC</td>\n",
       "      <td>0</td>\n",
       "      <td>2021-01-31</td>\n",
       "      <td>70</td>\n",
       "      <td>-0.7393</td>\n",
       "      <td>-90.3518</td>\n",
       "      <td>84.20</td>\n",
       "      <td>8.05</td>\n",
       "    </tr>\n",
       "    <tr>\n",
       "      <th>30</th>\n",
       "      <td>30</td>\n",
       "      <td>Jumla</td>\n",
       "      <td>NP</td>\n",
       "      <td>0</td>\n",
       "      <td>2021-01-31</td>\n",
       "      <td>73</td>\n",
       "      <td>29.2747</td>\n",
       "      <td>82.1838</td>\n",
       "      <td>33.03</td>\n",
       "      <td>3.38</td>\n",
       "    </tr>\n",
       "    <tr>\n",
       "      <th>28</th>\n",
       "      <td>28</td>\n",
       "      <td>Maple Creek</td>\n",
       "      <td>CA</td>\n",
       "      <td>0</td>\n",
       "      <td>2021-01-31</td>\n",
       "      <td>60</td>\n",
       "      <td>49.9168</td>\n",
       "      <td>-109.4848</td>\n",
       "      <td>37.40</td>\n",
       "      <td>8.05</td>\n",
       "    </tr>\n",
       "    <tr>\n",
       "      <th>9</th>\n",
       "      <td>9</td>\n",
       "      <td>Husavik</td>\n",
       "      <td>IS</td>\n",
       "      <td>0</td>\n",
       "      <td>2021-01-31</td>\n",
       "      <td>78</td>\n",
       "      <td>66.0449</td>\n",
       "      <td>-17.3389</td>\n",
       "      <td>6.80</td>\n",
       "      <td>2.30</td>\n",
       "    </tr>\n",
       "    <tr>\n",
       "      <th>8</th>\n",
       "      <td>8</td>\n",
       "      <td>East London</td>\n",
       "      <td>ZA</td>\n",
       "      <td>0</td>\n",
       "      <td>2021-01-31</td>\n",
       "      <td>88</td>\n",
       "      <td>-33.0153</td>\n",
       "      <td>27.9116</td>\n",
       "      <td>73.40</td>\n",
       "      <td>3.44</td>\n",
       "    </tr>\n",
       "  </tbody>\n",
       "</table>\n",
       "</div>"
      ],
      "text/plain": [
       "    City_ID          City Country  Cloudiness        Date  Humidity(%)  \\\n",
       "0         0  Puerto Ayora      EC           0  2021-01-31           70   \n",
       "30       30         Jumla      NP           0  2021-01-31           73   \n",
       "28       28   Maple Creek      CA           0  2021-01-31           60   \n",
       "9         9       Husavik      IS           0  2021-01-31           78   \n",
       "8         8   East London      ZA           0  2021-01-31           88   \n",
       "\n",
       "        Lat       Lng  Max Temp (F)  Wind Speed  \n",
       "0   -0.7393  -90.3518         84.20        8.05  \n",
       "30  29.2747   82.1838         33.03        3.38  \n",
       "28  49.9168 -109.4848         37.40        8.05  \n",
       "9   66.0449  -17.3389          6.80        2.30  \n",
       "8  -33.0153   27.9116         73.40        3.44  "
      ]
     },
     "execution_count": 164,
     "metadata": {},
     "output_type": "execute_result"
    }
   ],
   "source": [
    "#  Get the indices of cities that have humidity over 100%.\n",
    "weather_df.sort_values(by=\"Cloudiness\", ascending=True).head()"
   ]
  },
  {
   "cell_type": "code",
   "execution_count": null,
   "metadata": {},
   "outputs": [],
   "source": [
    "# Make a new DataFrame equal to the city data to drop all humidity outliers by index.\n",
    "# Passing \"inplace=False\" will make a copy of the city_data DataFrame, which we call \"clean_city_data\".\n"
   ]
  },
  {
   "cell_type": "markdown",
   "metadata": {},
   "source": [
    "## Plotting the Data\n",
    "* Use proper labeling of the plots using plot titles (including date of analysis) and axes labels.\n",
    "* Save the plotted figures as .pngs."
   ]
  },
  {
   "cell_type": "markdown",
   "metadata": {},
   "source": [
    "## Latitude vs. Temperature Plot"
   ]
  },
  {
   "cell_type": "code",
   "execution_count": 171,
   "metadata": {
    "scrolled": true
   },
   "outputs": [
    {
     "data": {
      "image/png": "[encoded data removed]",
      "text/plain": [
       "<Figure size 432x288 with 1 Axes>"
      ]
     },
     "metadata": {
      "needs_background": "light"
     },
     "output_type": "display_data"
    }
   ],
   "source": [
    "plt.scatter(lat,temp_max)\n",
    "date = weather_df[\"Date\"][0]\n",
    "# date_format = format()\n",
    "# labels\n",
    "plt.title(f\"City Latitude vs Max Temperature ({date})\", y=1.02)\n",
    "plt.xlabel(\"Latitude\", labelpad=10)\n",
    "plt.ylabel(\"Temperature (F)\",labelpad=10)\n",
    "# x & y limits\n",
    "plt.ylim(min(temp_max)-10,max(temp_max)+10)\n",
    "plt.xlim(min(lat)-10,max(lat)+10)\n",
    "plt.show()"
   ]
  },
  {
   "cell_type": "markdown",
   "metadata": {},
   "source": [
    "## Latitude vs. Humidity Plot"
   ]
  },
  {
   "cell_type": "code",
   "execution_count": 146,
   "metadata": {},
   "outputs": [
    {
     "data": {
      "image/png": "[encoded data removed]",
      "text/plain": [
       "<Figure size 432x288 with 1 Axes>"
      ]
     },
     "metadata": {
      "needs_background": "light"
     },
     "output_type": "display_data"
    }
   ],
   "source": [
    "plt.scatter(lat,humidity)\n",
    "# labels\n",
    "plt.title(f\"City Latitude vs Humidity ({date})\", y=1.02)\n",
    "plt.xlabel(\"Latitude\", labelpad=10)\n",
    "plt.ylabel(\"Humidity(%)\",labelpad=10)\n",
    "# x & y limits\n",
    "plt.ylim(0,max(humidity)+5)\n",
    "plt.xlim(min(lat)-10,max(lat)+10)\n",
    "plt.show()"
   ]
  },
  {
   "cell_type": "markdown",
   "metadata": {},
   "source": [
    "## Latitude vs. Cloudiness Plot"
   ]
  },
  {
   "cell_type": "code",
   "execution_count": 167,
   "metadata": {},
   "outputs": [
    {
     "data": {
      "image/png": "[encoded data removed]",
      "text/plain": [
       "<Figure size 432x288 with 1 Axes>"
      ]
     },
     "metadata": {
      "needs_background": "light"
     },
     "output_type": "display_data"
    }
   ],
   "source": [
    "plt.scatter(lat,cloudiness)\n",
    "# labels\n",
    "plt.title(f\"City Latitude vs Cloudiness ({date})\", y=1.02)\n",
    "plt.xlabel(\"Latitude\", labelpad=10)\n",
    "plt.ylabel(\"Cloudiness(%)\",labelpad=10)\n",
    "# x & y limits\n",
    "plt.ylim(-3,max(cloudiness)+5)\n",
    "plt.xlim(min(lat)-10,max(lat)+10)\n",
    "plt.show()"
   ]
  },
  {
   "cell_type": "markdown",
   "metadata": {},
   "source": [
    "## Latitude vs. Wind Speed Plot"
   ]
  },
  {
   "cell_type": "code",
   "execution_count": 170,
   "metadata": {},
   "outputs": [
    {
     "data": {
      "image/png": "[encoded data removed]",
      "text/plain": [
       "<Figure size 432x288 with 1 Axes>"
      ]
     },
     "metadata": {
      "needs_background": "light"
     },
     "output_type": "display_data"
    }
   ],
   "source": [
    "plt.scatter(lat,wind_speed)\n",
    "# labels\n",
    "plt.title(f\"City Latitude vs Wind Speed ({date})\", y=1.02)\n",
    "plt.xlabel(\"Latitude\", labelpad=10)\n",
    "plt.ylabel(\"Cloudiness(%)\",labelpad=10)\n",
    "# x & y limits\n",
    "plt.ylim(-1,max(wind_speed)+10)\n",
    "plt.xlim(min(lat)-10,max(lat)+10)\n",
    "plt.show()"
   ]
  },
  {
   "cell_type": "markdown",
   "metadata": {},
   "source": [
    "## Linear Regression"
   ]
  },
  {
   "cell_type": "code",
   "execution_count": null,
   "metadata": {},
   "outputs": [],
   "source": []
  },
  {
   "cell_type": "markdown",
   "metadata": {},
   "source": [
    "####  Northern Hemisphere - Max Temp vs. Latitude Linear Regression"
   ]
  },
  {
   "cell_type": "code",
   "execution_count": null,
   "metadata": {},
   "outputs": [],
   "source": []
  },
  {
   "cell_type": "markdown",
   "metadata": {},
   "source": [
    "####  Southern Hemisphere - Max Temp vs. Latitude Linear Regression"
   ]
  },
  {
   "cell_type": "code",
   "execution_count": null,
   "metadata": {},
   "outputs": [],
   "source": []
  },
  {
   "cell_type": "markdown",
   "metadata": {},
   "source": [
    "####  Northern Hemisphere - Humidity (%) vs. Latitude Linear Regression"
   ]
  },
  {
   "cell_type": "code",
   "execution_count": null,
   "metadata": {},
   "outputs": [],
   "source": []
  },
  {
   "cell_type": "markdown",
   "metadata": {},
   "source": [
    "####  Southern Hemisphere - Humidity (%) vs. Latitude Linear Regression"
   ]
  },
  {
   "cell_type": "code",
   "execution_count": null,
   "metadata": {},
   "outputs": [],
   "source": []
  },
  {
   "cell_type": "markdown",
   "metadata": {},
   "source": [
    "####  Northern Hemisphere - Cloudiness (%) vs. Latitude Linear Regression"
   ]
  },
  {
   "cell_type": "code",
   "execution_count": null,
   "metadata": {},
   "outputs": [],
   "source": []
  },
  {
   "cell_type": "markdown",
   "metadata": {},
   "source": [
    "####  Southern Hemisphere - Cloudiness (%) vs. Latitude Linear Regression"
   ]
  },
  {
   "cell_type": "code",
   "execution_count": null,
   "metadata": {},
   "outputs": [],
   "source": []
  },
  {
   "cell_type": "markdown",
   "metadata": {},
   "source": [
    "####  Northern Hemisphere - Wind Speed (mph) vs. Latitude Linear Regression"
   ]
  },
  {
   "cell_type": "code",
   "execution_count": null,
   "metadata": {},
   "outputs": [],
   "source": []
  },
  {
   "cell_type": "markdown",
   "metadata": {},
   "source": [
    "####  Southern Hemisphere - Wind Speed (mph) vs. Latitude Linear Regression"
   ]
  },
  {
   "cell_type": "code",
   "execution_count": null,
   "metadata": {},
   "outputs": [],
   "source": []
  },
  {
   "cell_type": "code",
   "execution_count": null,
   "metadata": {},
   "outputs": [],
   "source": []
  }
 ],
 "metadata": {
  "anaconda-cloud": {},
  "kernel_info": {
   "name": "python3"
  },
  "kernelspec": {
   "display_name": "PythonEnv",
   "language": "python",
   "name": "pythonenv"
  },
  "language_info": {
   "codemirror_mode": {
    "name": "ipython",
    "version": 3
   },
   "file_extension": ".py",
   "mimetype": "text/x-python",
   "name": "python",
   "nbconvert_exporter": "python",
   "pygments_lexer": "ipython3",
   "version": "3.8.5"
  },
  "latex_envs": {
   "LaTeX_envs_menu_present": true,
   "autoclose": false,
   "autocomplete": true,
   "bibliofile": "biblio.bib",
   "cite_by": "apalike",
   "current_citInitial": 1,
   "eqLabelWithNumbers": true,
   "eqNumInitial": 1,
   "hotkeys": {
    "equation": "Ctrl-E",
    "itemize": "Ctrl-I"
   },
   "labels_anchors": false,
   "latex_user_defs": false,
   "report_style_numbering": false,
   "user_envs_cfg": false
  },
  "nteract": {
   "version": "0.12.3"
  }
 },
 "nbformat": 4,
 "nbformat_minor": 2
}
